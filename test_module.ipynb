{
 "cells": [
  {
   "cell_type": "code",
   "execution_count": 1,
   "id": "f3d47000",
   "metadata": {},
   "outputs": [],
   "source": [
    "import pandas as pd\n",
    "from random import randint\n",
    "from sol_converter import get_earth_date"
   ]
  },
  {
   "cell_type": "code",
   "execution_count": 2,
   "id": "a81807ec",
   "metadata": {},
   "outputs": [],
   "source": [
    "table = pd.read_csv(\"spicam_obs.csv\")\n",
    "last_index = table.shape[0] - 1"
   ]
  },
  {
   "cell_type": "code",
   "execution_count": 3,
   "id": "536c83b1",
   "metadata": {},
   "outputs": [
    {
     "name": "stdout",
     "output_type": "stream",
     "text": [
      "27 martian year, 107.635° -> (29, 10, 2004)\n",
      "30 martian year, 73.933° -> (6, 4, 2010)\n",
      "35 martian year, 57.591° -> (26, 7, 2019)\n"
     ]
    }
   ],
   "source": [
    "first_row = table.loc[0]\n",
    "random_row = table.loc[randint(0, last_index)]\n",
    "last_row = table.loc[last_index]\n",
    "for row in (first_row, random_row, last_row):\n",
    "    ls, year = row[[\"ls\", \"martian_year\"]]\n",
    "    print(f\"{year} martian year, {ls}° -> {get_earth_date(ls, year)}\")"
   ]
  }
 ],
 "metadata": {
  "kernelspec": {
   "display_name": "Python 3 (ipykernel)",
   "language": "python",
   "name": "python3"
  },
  "language_info": {
   "codemirror_mode": {
    "name": "ipython",
    "version": 3
   },
   "file_extension": ".py",
   "mimetype": "text/x-python",
   "name": "python",
   "nbconvert_exporter": "python",
   "pygments_lexer": "ipython3",
   "version": "3.11.4"
  }
 },
 "nbformat": 4,
 "nbformat_minor": 5
}
